{
  "metadata": {
    "kernelspec": {
      "name": "python",
      "display_name": "Python (Pyodide)",
      "language": "python"
    },
    "language_info": {
      "codemirror_mode": {
        "name": "python",
        "version": 3
      },
      "file_extension": ".py",
      "mimetype": "text/x-python",
      "name": "python",
      "nbconvert_exporter": "python",
      "pygments_lexer": "ipython3",
      "version": "3.8"
    }
  },
  "nbformat_minor": 5,
  "nbformat": 4,
  "cells": [
    {
      "id": "e47a510d-6190-49dc-81ed-fa59140a7310",
      "cell_type": "markdown",
      "source": "# Module 2: Control Flow Assignments\n## Lesson 2.1: Conditional Statements\n### Assignment 1: Simple if Statement\n\nWrite a program that asks the user to input a number and prints whether the number is positive.\n\n### Assignment 2: if-else Statement\n\nWrite a program that asks the user to input a number and prints whether the number is positive or negative.\n\n### Assignment 3: if-elif-else Statement\n\nWrite a program that asks the user to input a number and prints whether the number is positive, negative, or zero.\n\n### Assignment 4: Nested if Statement\n\nWrite a program that asks the user to input a number and prints whether the number is positive and even, positive and odd, or negative.\n\n## Lesson 2.2: Loops\n### Assignment 5: for Loop\n\nWrite a program that prints all the numbers from 1 to 10 using a for loop.\n\n### Assignment 6: while Loop\n\nWrite a program that prints all the numbers from 1 to 10 using a while loop.\n\n### Assignment 7: Nested Loops\n\nWrite a program that prints a 5x5 grid of asterisks (*) using nested loops.\n\n### Assignment 8: break Statement\n\nWrite a program that asks the user to input numbers until they input 0. The program should print the sum of all the input numbers.\n\n### Assignment 9: continue Statement\n\nWrite a program that prints all the numbers from 1 to 10 except 5 using a for loop and continue statement.\n\n### Assignment 10: pass Statement\n\nWrite a program that defines an empty function using the pass statement.\n\n### Assignment 11: Combining Loops and Conditionals\n\nWrite a program that asks the user to input a number and prints all the even numbers from 1 to that number using a for loop.\n\n### Assignment 12: Factorial Calculation\n\nWrite a program that calculates the factorial of a number input by the user using a while loop.\n\n### Assignment 13: Sum of Digits\n\nWrite a program that calculates the sum of the digits of a number input by the user using a while loop.\n\n### Assignment 14: Prime Number Check\n\nWrite a program that checks if a number input by the user is a prime number using a for loop.\n\n### Assignment 15: Fibonacci Sequence\n\nWrite a program that prints the first n Fibonacci numbers, where n is input by the user.",
      "metadata": {}
    },
    {
      "id": "3e9cd6fb-abb7-4f79-bea1-c1b952e05fcb",
      "cell_type": "code",
      "source": "#Assignment 1: Simple if Statement\n#Write a program that asks the user to input a number and prints whether the number is positive.\n#Write a program that asks the user to input a number and prints whether the number is positive or negative.\n#Write a program that asks the user to input a number and prints whether the number is positive, negative, or zero.\n\nnum = int(input('Enter a number'))\n\nif num < 0:\n    print(f'{num} is negative number')\nelif num > 0:\n    print(f'{num} is positive number')\nelse:\n    print(f'{num} is zero')",
      "metadata": {
        "trusted": true
      },
      "outputs": [
        {
          "output_type": "stream",
          "name": "stdin",
          "text": "Enter a number -55\n"
        },
        {
          "name": "stdout",
          "output_type": "stream",
          "text": "-55 is negative number\n"
        }
      ],
      "execution_count": 3
    },
    {
      "id": "b217d617-29f1-4d7c-93a8-bb8d76f3f731",
      "cell_type": "code",
      "source": "'''Assignment 4: Nested if Statement\nWrite a program that asks the user to input a number and prints whether the number is positive and even, positive and odd, or negative.\n'''\nnum = int(input('Enter a number'))\nif num > 0:\n    if num % 2 == 0:\n        print(f'{num} is even positive number')\n    else:\n        print(f'{num} is odd positive number')\nelse:\n    print(f'{num} is negative number')",
      "metadata": {
        "trusted": true
      },
      "outputs": [
        {
          "output_type": "stream",
          "name": "stdin",
          "text": "Enter a number -25\n"
        },
        {
          "name": "stdout",
          "output_type": "stream",
          "text": "-25 is negative number\n"
        }
      ],
      "execution_count": 6
    },
    {
      "id": "bc0f05f9-6aee-47e5-b51a-db94e1fa4105",
      "cell_type": "code",
      "source": "'''\nAssignment 5: for Loop\nWrite a program that prints all the numbers from 1 to 10 using a for loop.\n'''\n\nfor i in range(1,11):\n    print(i,end=' ')",
      "metadata": {
        "trusted": true
      },
      "outputs": [
        {
          "name": "stdout",
          "output_type": "stream",
          "text": "1 2 3 4 5 6 7 8 9 10 "
        }
      ],
      "execution_count": 8
    },
    {
      "id": "5f5867c8-53ca-448a-bdf2-c04c5fb8b525",
      "cell_type": "code",
      "source": "'''\nAssignment 6: while Loop\nWrite a program that prints all the numbers from 1 to 10 using a while loop.\n'''\n\nn = 10\ncount = 1\nwhile count <= n:\n    print(count, end=' ')\n    count += 1",
      "metadata": {
        "trusted": true
      },
      "outputs": [
        {
          "name": "stdout",
          "output_type": "stream",
          "text": "1 2 3 4 5 6 7 8 9 10 "
        }
      ],
      "execution_count": 1
    },
    {
      "id": "5d527b17-396a-4e64-a4c1-f10df5227625",
      "cell_type": "code",
      "source": "'''\n### Assignment 7: Nested Loops\nWrite a program that prints a 5x5 grid of asterisks (*) using nested loops.\n'''\n\nfor i in range(5):\n    for j in range(5):\n        print('*', end=' ')\n    print('')",
      "metadata": {
        "trusted": true
      },
      "outputs": [
        {
          "name": "stdout",
          "output_type": "stream",
          "text": "* * * * * \n* * * * * \n* * * * * \n* * * * * \n* * * * * \n"
        }
      ],
      "execution_count": 3
    },
    {
      "id": "2562650a-9295-4988-9aa3-a3a02fd7909d",
      "cell_type": "code",
      "source": "'''\n### Assignment 8: break Statement\nWrite a program that asks the user to input numbers until they input 0. The program should print the sum of all the input numbers.\n'''\n\nsum = 0\n\nwhile True:\n    num = int(input('Enter a number'))\n    if num == 0:\n        break\n    sum += num\n\nprint(f'sum of entered nums is = {sum}')\n",
      "metadata": {
        "trusted": true
      },
      "outputs": [
        {
          "output_type": "stream",
          "name": "stdin",
          "text": "Enter a number 1\nEnter a number 2\nEnter a number 5\nEnter a number 0\n"
        },
        {
          "name": "stdout",
          "output_type": "stream",
          "text": "sum of entered nums is = 8\n"
        }
      ],
      "execution_count": 4
    },
    {
      "id": "a071d453-7817-4af8-87cf-a048ecd72af6",
      "cell_type": "code",
      "source": "'''\n### Assignment 9: continue Statement\nWrite a program that prints all the numbers from 1 to 10 except 5 using a for loop and continue statement.\n'''\nfor i in range(1,11):\n    if i==5:\n        continue\n    print(i,end=' ')",
      "metadata": {
        "trusted": true
      },
      "outputs": [
        {
          "name": "stdout",
          "output_type": "stream",
          "text": "1 2 3 4 6 7 8 9 10 "
        }
      ],
      "execution_count": 5
    },
    {
      "id": "9a803673-69d2-4158-8ace-811908c06e20",
      "cell_type": "code",
      "source": "'''\n### Assignment 10: pass Statement\nWrite a program that defines an empty function using the pass statement.\n'''\ndef empty_function():\n    pass\n\nempty_function()\n",
      "metadata": {
        "trusted": true
      },
      "outputs": [],
      "execution_count": 6
    },
    {
      "id": "04964dd1-e25e-431a-b542-b6fbc96fdd5a",
      "cell_type": "code",
      "source": "'''\n### Assignment 11: Combining Loops and Conditionals\nWrite a program that asks the user to input a number and prints all the even numbers from 1 to that number using a for loop.\n'''\n\nnum = int(input('Enter a number till where prints even number'))\n\nfor n in range(1, num+1):\n    if n%2==0:\n        print(n, end=' ')",
      "metadata": {
        "trusted": true
      },
      "outputs": [
        {
          "output_type": "stream",
          "name": "stdin",
          "text": "Enter a number till where prints even number 20\n"
        },
        {
          "name": "stdout",
          "output_type": "stream",
          "text": "2 4 6 8 10 12 14 16 18 20 "
        }
      ],
      "execution_count": 7
    },
    {
      "id": "0922885f-f49b-4727-b64d-4429311ca9b9",
      "cell_type": "code",
      "source": "'''\n### Assignment 12: Factorial Calculation\nWrite a program that calculates the factorial of a number input by the user using a while loop.\n'''\ndef fact(n):\n    if n < 0:\n        return -1\n    elif n == 0:\n        return 1\n    else:\n        fact = 1\n        while n >= 1:\n            fact *= n\n            n -= 1\n        return fact\n            \n\nnum = int(input('Enter a number to find the factorial'))\nprint(f'factorial of {num} is {fact(num)}')\n\n",
      "metadata": {
        "trusted": true
      },
      "outputs": [
        {
          "output_type": "stream",
          "name": "stdin",
          "text": "Enter a number to find the factorial 5\n"
        },
        {
          "name": "stdout",
          "output_type": "stream",
          "text": "factorial of 5 is 120\n"
        }
      ],
      "execution_count": 14
    },
    {
      "id": "cc2add57-39d8-4b00-90d5-6fc2eb63fab4",
      "cell_type": "code",
      "source": "'''\n### Assignment 13: Sum of Digits\nWrite a program that calculates the sum of the digits of a number input by the user using a while loop.\n'''\nnum = int(input('Enter a number to find its sum of digits'))\n\nsum = 0\nwhile num > 0:\n    digit = num % 10\n    sum += digit\n    num //= 10\nprint(f'sum of digits is = {sum}')",
      "metadata": {
        "trusted": true
      },
      "outputs": [
        {
          "output_type": "stream",
          "name": "stdin",
          "text": "Enter a number to find its sum of digits 153\n"
        },
        {
          "name": "stdout",
          "output_type": "stream",
          "text": "sum of digits is = 9\n"
        }
      ],
      "execution_count": 17
    },
    {
      "id": "08a6b305-33d6-421d-91ad-785103e9c7c0",
      "cell_type": "code",
      "source": "'''\n### Assignment 14: Prime Number Check\nWrite a program that checks if a number input by the user is a prime number using a for loop.\n'''\nnum = int(input('Enter a number for Prime Number Check: '))\n\nif num <= 1:\n    print(f'{num} is not a prime number')\nelif num > 1:\n    for n in range(2, num):\n        if num % n == 0:\n            print(f'{num} is not a prime number')\n            print(f'{n} is a factorial of {num}')\n            break\n    else:\n        print(f'{num} is a prime number')",
      "metadata": {
        "trusted": true
      },
      "outputs": [
        {
          "output_type": "stream",
          "name": "stdin",
          "text": "Enter a number for Prime Number Check:  9\n"
        },
        {
          "name": "stdout",
          "output_type": "stream",
          "text": "9 is not a prime number\n3 is a factorial of 9\n"
        }
      ],
      "execution_count": 22
    },
    {
      "id": "faecb6f0-3d44-44c8-9c3d-8150f8105d9a",
      "cell_type": "code",
      "source": "'''\n### Assignment 15: Fibonacci Sequence\nWrite a program that prints the first n Fibonacci numbers, where n is input by the user.\n\na, b = 0, 1\ncount = 0\nwhile count < n:\n    print(a)\n    a, b = b, a + b\n    count += 1\n    \n'''\n\nterms=int(input('Enter no.of terms for Fibonacci series: '))\n\nn1,n2 = 0,1\nif terms <= 0:\n    print('Enter terms as +ve')\nelif terms == 1:\n    print(f'fibonacci series is {n1}')\nelse:\n    print('fibonacci series is ')\n    for term in range(terms):\n        print(n1, end=' ')\n        n = n1 + n2\n        n1 = n2\n        n2 = n\n",
      "metadata": {
        "trusted": true
      },
      "outputs": [
        {
          "output_type": "stream",
          "name": "stdin",
          "text": "Enter no.of terms for Fibonacci series:  5\n"
        },
        {
          "name": "stdout",
          "output_type": "stream",
          "text": "fibonacci series is \n0 1 1 2 3 "
        }
      ],
      "execution_count": 29
    }
  ]
}