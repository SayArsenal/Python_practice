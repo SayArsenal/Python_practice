{
  "metadata": {
    "kernelspec": {
      "name": "python",
      "display_name": "Python (Pyodide)",
      "language": "python"
    },
    "language_info": {
      "codemirror_mode": {
        "name": "python",
        "version": 3
      },
      "file_extension": ".py",
      "mimetype": "text/x-python",
      "name": "python",
      "nbconvert_exporter": "python",
      "pygments_lexer": "ipython3",
      "version": "3.8"
    }
  },
  "nbformat_minor": 5,
  "nbformat": 4,
  "cells": [
    {
      "id": "f969dc3d-b188-43ec-a9ec-e54f143c3717",
      "cell_type": "markdown",
      "source": "# Module 4: Advanced Functions Assignments\n## Lesson 4.1: Defining Functions\n### Assignment 1: Fibonacci Sequence with Memoization\n\nDefine a recursive function to calculate the nth Fibonacci number using memoization. Test the function with different inputs.\n\n\n### Assignment 2: Function with Nested Default Arguments\n\nDefine a function that takes two arguments, a and b, where b is a dictionary with a default value of an empty dictionary. The function should add a new key-value pair to the dictionary and return it. Test the function with different inputs.\n\n### Assignment 3: Function with Variable Keyword Arguments\n\nDefine a function that takes a variable number of keyword arguments and returns a dictionary containing only those key-value pairs where the value is an integer. Test the function with different inputs.\n\n### Assignment 4: Function with Callback\n\nDefine a function that takes another function as a callback and a list of integers. The function should apply the callback to each integer in the list and return a new list with the results. Test with different callback functions.\n\n### Assignment 5: Function that Returns a Function\n\nDefine a function that returns another function. The returned function should take an integer and return its square. Test the returned function with different inputs.\n\n### Assignment 6: Function with Decorators\n\nDefine a function that calculates the time taken to execute another function. Apply this decorator to a function that performs a complex calculation. Test the decorated function with different inputs.\n\n### Assignment 7: Higher-Order Function for Filtering and Mapping\n\nDefine a higher-order function that takes two functions, a filter function and a map function, along with a list of integers. The higher-order function should first filter the integers using the filter function and then apply the map function to the filtered integers. Test with different filter and map functions.\n\n### Assignment 8: Function Composition\n\nDefine a function that composes two functions, f and g, such that the result is f(g(x)). Test with different functions f and g.\n\n### Assignment 9: Partial Function Application\n\nUse the functools.partial function to create a new function that multiplies its input by 2. Test the new function with different inputs.\n\n### Assignment 10: Function with Error Handling\n\nDefine a function that takes a list of integers and returns their average. The function should handle any errors that occur (e.g., empty list) and return None in such cases. Test with different inputs.\n\n### Assignment 11: Function with Generators\n\nDefine a function that generates an infinite sequence of Fibonacci numbers. Test by printing the first 10 numbers in the sequence.\n\n### Assignment 12: Currying\n\nDefine a curried function that takes three arguments, one at a time, and returns their product. Test the function by providing arguments one at a time.\n\n### Assignment 13: Function with Context Manager\n\nDefine a function that uses a context manager to write a list of integers to a file. The function should handle any errors that occur during file operations. Test with different lists.\n\n### Assignment 14: Function with Multiple Return Types\n\nDefine a function that takes a list of mixed data types (integers, strings, and floats) and returns three lists: one containing all the integers, one containing all the strings, and one containing all the floats. Test with different inputs.\n\n### Assignment 15: Function with State\n\nDefine a function that maintains state between calls using a mutable default argument. The function should keep track of how many times it has been called. Test by calling the function multiple times.",
      "metadata": {}
    },
    {
      "id": "abb4d083-af0b-49f7-9e55-70ebb385f031",
      "cell_type": "code",
      "source": "'''\nAssignment 1: Fibonacci Sequence with Memoization\nDefine a recursive function to calculate the nth Fibonacci number using memoization. Test the function with different inputs.\n***********************************************\nThe Fibonacci sequence is a series of numbers in which each number is the sum of the two preceding ones, usually starting with 0 and 1.\nThe sequence begins: 0, 1, 1, 2, 3, 5, 8, 13, 21, and so on.\nCalculating Fibonacci numbers recursively can be inefficient, especially for larger numbers,\ndue to repeated calculations of the same subproblems. This is where memoization comes in handy.\n*********Memoization********** is an optimization technique used to speed up computer programs by storing the results of expensive function calls\nand returning the cached result when the same inputs occur again. In the context of the Fibonacci sequence,\nthis means we store the calculated Fibonacci numbers in an array or a dictionary as we compute them.\n*****************************\n'''\n\ndef fibonacci_memoization(terms, memo={}):\n    if terms in memo:\n        return memo[terms]\n    elif terms <= 1:\n        return terms\n    else:\n        memo[terms] = fibonacci_memoization(terms-1, memo) + fibonacci_memoization(terms-2, memo)\n        return memo[terms]\n\nprint(fibonacci_memoization(5))\nprint(fibonacci_memoization(3))\n",
      "metadata": {
        "trusted": true
      },
      "outputs": [
        {
          "name": "stdout",
          "output_type": "stream",
          "text": "5\n2\n"
        }
      ],
      "execution_count": 7
    },
    {
      "id": "5b9f9205-bed6-4270-9ea3-c144775c143d",
      "cell_type": "code",
      "source": "'''\nAssignment 2: Function with Nested Default Arguments\nDefine a function that takes two arguments, a and b, where b is a dictionary with a default value of an empty dictionary.\nThe function should add a new key-value pair to the dictionary and return it. Test the function with different inputs.\n'''\n\n# def update_dict(a, b={}):\n#     b.update({a:'Sayan'})\n#     return b\ndef update_dict(a, b=None):\n    if b is None:\n        b ={}\n    b[a] = a**2\n    return b\n\nd1 = {\n    1 : 1, 2 : 4\n}\nprint(update_dict(3, d1))\n",
      "metadata": {
        "trusted": true
      },
      "outputs": [
        {
          "name": "stdout",
          "output_type": "stream",
          "text": "{1: 1, 2: 4, 3: 9}\n"
        }
      ],
      "execution_count": 10
    },
    {
      "id": "683dbd63-8e8f-4ffd-8559-b99141bee302",
      "cell_type": "code",
      "source": "",
      "metadata": {
        "trusted": true
      },
      "outputs": [],
      "execution_count": null
    }
  ]
}