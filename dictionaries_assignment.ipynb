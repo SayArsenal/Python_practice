{
  "metadata": {
    "kernelspec": {
      "name": "python",
      "display_name": "Python (Pyodide)",
      "language": "python"
    },
    "language_info": {
      "codemirror_mode": {
        "name": "python",
        "version": 3
      },
      "file_extension": ".py",
      "mimetype": "text/x-python",
      "name": "python",
      "nbconvert_exporter": "python",
      "pygments_lexer": "ipython3",
      "version": "3.8"
    }
  },
  "nbformat_minor": 5,
  "nbformat": 4,
  "cells": [
    {
      "id": "dd0dae97-6590-4ef0-a314-39ab5c099a83",
      "cell_type": "markdown",
      "source": "# Module 3: Data Structures Assignments\n## Lesson 3.4: Dictionaries\n### Assignment 1: Creating and Accessing Dictionaries\n\nCreate a dictionary with the first 10 positive integers as keys and their squares as values. Print the dictionary.\n\n### Assignment 2: Accessing Dictionary Elements\n\nPrint the value of the key 5 and the keys of the dictionary created in Assignment 1.\n\n### Assignment 3: Dictionary Methods\n\nAdd a new key-value pair (11, 121) to the dictionary created in Assignment 1 and then remove the key-value pair with key 1. Print the modified dictionary.\n\n### Assignment 4: Iterating Over Dictionaries\n\nIterate over the dictionary created in Assignment 1 and print each key-value pair.\n\n### Assignment 5: Dictionary Comprehensions\n\nCreate a new dictionary containing the cubes of the first 10 positive integers using a dictionary comprehension. Print the new dictionary.\n\n### Assignment 6: Merging Dictionaries\n\nCreate two dictionaries: one with keys as the first 5 positive integers and values as their squares, and another with keys as the next 5 positive integers and values as their squares. Merge these dictionaries into a single dictionary and print it.\n\n### Assignment 7: Nested Dictionaries\n\nCreate a nested dictionary representing a student with keys 'name', 'age', 'grades', where 'grades' is another dictionary with keys 'math', 'science', and 'english'. Print the nested dictionary.\n\n### Assignment 8: Dictionary of Lists\n\nCreate a dictionary where the keys are the first 5 positive integers and the values are lists containing the first 5 multiples of the key. Print the dictionary.\n\n### Assignment 9: Dictionary of Tuples\n\nCreate a dictionary where the keys are the first 5 positive integers and the values are tuples containing the key and its square. Print the dictionary.\n\n### Assignment 10: Dictionary and List Conversion\n\nCreate a dictionary with the first 5 positive integers as keys and their squares as values. Convert the dictionary to a list of tuples and print it.\n\n### Assignment 11: Dictionary Filtering\n\nCreate a dictionary with the first 10 positive integers as keys and their squares as values. Create a new dictionary containing only the key-value pairs where the key is even. Print the new dictionary.\n\n### Assignment 12: Dictionary Key and Value Transformation\n\nCreate a dictionary with the first 5 positive integers as keys and their squares as values. Create a new dictionary with keys and values swapped. Print the new dictionary.\n\n### Assignment 13: Default Dictionary\n\nCreate a default dictionary where each key has a default value of an empty list. Add some elements to the lists and print the dictionary.\n\n### Assignment 14: Counting with Dictionaries\n\nWrite a function that takes a string and returns a dictionary with the count of each character in the string. Print the dictionary.\n\n### Assignment 15: Dictionary and JSON\n\nCreate a dictionary representing a book with keys 'title', 'author', 'year', and 'genre'. Convert the dictionary to a JSON string and print it.",
      "metadata": {}
    },
    {
      "id": "f57dfe64-3b66-4c3f-9fef-edf90b40c201",
      "cell_type": "code",
      "source": "'''\nAssignment 1: Creating and Accessing Dictionaries\nCreate a dictionary with the first 10 positive integers as keys and their squares as values. Print the dictionary.\nAssignment 2: Accessing Dictionary Elements\nPrint the value of the key 5 and the keys of the dictionary created in Assignment 1.\nAssignment 3: Dictionary Methods\nAdd a new key-value pair (11, 121) to the dictionary created in Assignment 1\nand then remove the key-value pair with key 1. Print the modified dictionary.\nAssignment 4: Iterating Over Dictionaries\nIterate over the dictionary created in Assignment 1 and print each key-value pair.\n'''\n\ndict1 = {x:x**2 for x in range(1,10+1)}\nprint(dict1)\nprint(f'value at key 5 = {dict1[5]}')\nprint(f'keys in dict1 = {dict1.keys()}')\ndict1[11] = 121\ndict1.pop(1)\nprint(dict1)\nfor key,val in dict1.items():\n    print(f'key={key} : value={val}')",
      "metadata": {
        "trusted": true
      },
      "outputs": [
        {
          "name": "stdout",
          "output_type": "stream",
          "text": "{1: 1, 2: 4, 3: 9, 4: 16, 5: 25, 6: 36, 7: 49, 8: 64, 9: 81, 10: 100}\nvalue at key 5 = 25\nkeys in dict1 = dict_keys([1, 2, 3, 4, 5, 6, 7, 8, 9, 10])\n{2: 4, 3: 9, 4: 16, 5: 25, 6: 36, 7: 49, 8: 64, 9: 81, 10: 100, 11: 121}\nkey=2 : value=4\nkey=3 : value=9\nkey=4 : value=16\nkey=5 : value=25\nkey=6 : value=36\nkey=7 : value=49\nkey=8 : value=64\nkey=9 : value=81\nkey=10 : value=100\nkey=11 : value=121\n"
        }
      ],
      "execution_count": 6
    },
    {
      "id": "06bbd5a1-9da9-4c7e-aafb-330fadd183f6",
      "cell_type": "code",
      "source": "'''\nAssignment 5: Dictionary Comprehensions\nCreate a new dictionary containing the cubes of the first 10 positive integers using a dictionary comprehension. Print the new dictionary.\n'''\ndict5 = {x:x**3 for x in range(1,10+1)}\nprint(dict5)",
      "metadata": {
        "trusted": true
      },
      "outputs": [
        {
          "name": "stdout",
          "output_type": "stream",
          "text": "{1: 1, 2: 8, 3: 27, 4: 64, 5: 125, 6: 216, 7: 343, 8: 512, 9: 729, 10: 1000}\n"
        }
      ],
      "execution_count": 7
    },
    {
      "id": "cf1e03b5-d7c6-46c7-ba57-fae93a165aaa",
      "cell_type": "code",
      "source": "'''\nAssignment 6: Merging Dictionaries\nCreate two dictionaries: one with keys as the first 5 positive integers and values as their squares,\nand another with keys as the next 5 positive integers and values as their squares. Merge these dictionaries into a single dictionary and print it.\n'''\nd1 = {x:x**2 for x in range(1,5+1)}\nd1.update({x:x**2 for x in range(6,10+1)})\nprint(d1)",
      "metadata": {
        "trusted": true
      },
      "outputs": [
        {
          "name": "stdout",
          "output_type": "stream",
          "text": "{1: 1, 2: 4, 3: 9, 4: 16, 5: 25, 6: 36, 7: 49, 8: 64, 9: 81, 10: 100}\n"
        }
      ],
      "execution_count": 8
    },
    {
      "id": "40c6e71d-1d8e-4bae-849e-6929d50eaba0",
      "cell_type": "code",
      "source": "'''\nAssignment 7: Nested Dictionaries\nCreate a nested dictionary representing a student with keys 'name', 'age', 'grades',\nwhere 'grades' is another dictionary with keys 'math', 'science', and 'english'. Print the nested dictionary.\n'''\nstudents = {\n    'name': 'Sayan',\n    'age': 38,\n    'grades':{\n        'math': 90,\n        'science': 95,\n        'english':75\n    }\n}\n\nprint(students)",
      "metadata": {
        "trusted": true
      },
      "outputs": [
        {
          "name": "stdout",
          "output_type": "stream",
          "text": "{'name': 'Sayan', 'age': 38, 'grades': {'math': 90, 'science': 95, 'english': 75}}\n"
        }
      ],
      "execution_count": 9
    },
    {
      "id": "1097fe11-7e15-475a-b157-b535c4b33cad",
      "cell_type": "code",
      "source": "'''### Assignment 8: Dictionary of Lists\nCreate a dictionary where the keys are the first 5 positive integers\nand the values are lists containing the first 5 multiples of the key. Print the dictionary.\n'''\n\ndict_l = {x:[x*y for y in range(1,5+1)] for x in range(1,5+1)}\nprint(dict_l)",
      "metadata": {
        "trusted": true
      },
      "outputs": [
        {
          "name": "stdout",
          "output_type": "stream",
          "text": "{1: [1, 2, 3, 4, 5], 2: [2, 4, 6, 8, 10], 3: [3, 6, 9, 12, 15], 4: [4, 8, 12, 16, 20], 5: [5, 10, 15, 20, 25]}\n"
        }
      ],
      "execution_count": 10
    },
    {
      "id": "47e1958a-7876-4085-b66b-6c4a3a5c547e",
      "cell_type": "code",
      "source": "'''\n### Assignment 9: Dictionary of Tuples\nCreate a dictionary where the keys are the first 5 positive integers and the values are tuples containing the key and its square.\nPrint the dictionary.\n'''\ndict_t = {x:(x, x**2) for x in range(1,5+1)}\nprint(dict_t)",
      "metadata": {
        "trusted": true
      },
      "outputs": [
        {
          "name": "stdout",
          "output_type": "stream",
          "text": "{1: (1, 1), 2: (2, 4), 3: (3, 9), 4: (4, 16), 5: (5, 25)}\n"
        }
      ],
      "execution_count": 11
    },
    {
      "id": "356540a5-3e88-43ab-b102-152f84c3f331",
      "cell_type": "code",
      "source": "'''\n### Assignment 10: Dictionary and List Conversion\nCreate a dictionary with the first 5 positive integers as keys and their squares as values.\nConvert the dictionary to a list of tuples and print it.\n'''\nd_1 = {x:x**2 for x in range(1,5+1)}\nlist_of_tuples = list(d_1.items())\nprint(list_of_tuples)",
      "metadata": {
        "trusted": true
      },
      "outputs": [
        {
          "name": "stdout",
          "output_type": "stream",
          "text": "[(1, 1), (2, 4), (3, 9), (4, 16), (5, 25)]\n"
        }
      ],
      "execution_count": 12
    },
    {
      "id": "d4d3af0c-41ce-40c8-82c1-e24857edf962",
      "cell_type": "code",
      "source": "'''\nCreate a dictionary with the first 10 positive integers as keys and their squares as values.\nCreate a new dictionary containing only the key-value pairs where the key is even. Print the new dictionary.\n'''\nd11={x:x**2 for x in range(1,10+1)}\nfilter_dict = {k:v for k,v in d11.items() if k%2==0}\nprint(filter_dict)",
      "metadata": {
        "trusted": true
      },
      "outputs": [
        {
          "name": "stdout",
          "output_type": "stream",
          "text": "{2: 4, 4: 16, 6: 36, 8: 64, 10: 100}\n"
        }
      ],
      "execution_count": 13
    },
    {
      "id": "3f442fde-114c-4d24-9a22-dd0a865ee46d",
      "cell_type": "code",
      "source": "'''\n### Assignment 12: Dictionary Key and Value Transformation\nCreate a dictionary with the first 5 positive integers as keys and their squares as values.\nCreate a new dictionary with keys and values swapped. Print the new dictionary.\n'''\nd12={x:x**2 for x in range(1,10+1)}\nfilter_dict1 = {v:k for k,v in d11.items()}\nprint(filter_dict1)",
      "metadata": {
        "trusted": true
      },
      "outputs": [
        {
          "name": "stdout",
          "output_type": "stream",
          "text": "{1: 1, 4: 2, 9: 3, 16: 4, 25: 5, 36: 6, 49: 7, 64: 8, 81: 9, 100: 10}\n"
        }
      ],
      "execution_count": 14
    },
    {
      "id": "c3a4a690-9918-4689-85d3-dd6556dbc7ce",
      "cell_type": "code",
      "source": "'''\n### Assignment 13: Default Dictionary\nCreate a default dictionary where each key has a default value of an empty list. Add some elements to the lists and print the dictionary.\n'''\nfrom collections import defaultdict\n\ndefault_dict = defaultdict(list)\ndefault_dict['a'].append(1)\ndefault_dict['b'].append(2)\ndefault_dict['c'].append(3)\nprint(default_dict)",
      "metadata": {
        "trusted": true
      },
      "outputs": [
        {
          "name": "stdout",
          "output_type": "stream",
          "text": "defaultdict(<class 'list'>, {'a': [1], 'b': [2], 'c': [3]})\n"
        }
      ],
      "execution_count": 15
    },
    {
      "id": "20983137-49fa-438d-9cec-e7a711fb5124",
      "cell_type": "code",
      "source": "'''\n### Assignment 14: Counting with Dictionaries\nWrite a function that takes a string and returns a dictionary with the count of each character in the string. Print the dictionary.\ndef count_chars(s):\n    count_dict = {}\n    for char in s:\n        count_dict[char] = count_dict.get(char, 0) + 1\n    return count_dict\n'''\n\ndef count_chars(input_str):\n    char_count = {}\n    for c in input_str:\n        if c in char_count:\n            char_count[c] += 1\n        else:\n            char_count[c] = 1\n    return char_count\n\ninput_s = input('Enter a string to find characters count:\\n')\nprint(f'char count: {count_chars(input_s)}')\n        ",
      "metadata": {
        "trusted": true
      },
      "outputs": [
        {
          "output_type": "stream",
          "name": "stdin",
          "text": "Enter a string to find characters count:\n SayanBera\n"
        },
        {
          "name": "stdout",
          "output_type": "stream",
          "text": "char count: {'S': 1, 'a': 3, 'y': 1, 'n': 1, 'B': 1, 'e': 1, 'r': 1}\n"
        }
      ],
      "execution_count": 17
    },
    {
      "id": "5bacee3e-4b7d-4d05-98dd-f789c0071d41",
      "cell_type": "code",
      "source": "'''\n### Assignment 15: Dictionary and JSON\nCreate a dictionary representing a book with keys 'title', 'author', 'year', and 'genre'. Convert the dictionary to a JSON string and print it.\n'''\nimport json\n\nbook = {\n    'title': 'Python Basics',\n    'author': 'Krish Naik',\n    'year': 2025,\n    'genre': 'AI-ML-DL'\n}\n\nj_book = json.dumps(book)\nprint(j_book)\n\n",
      "metadata": {
        "trusted": true
      },
      "outputs": [
        {
          "name": "stdout",
          "output_type": "stream",
          "text": "{\"title\": \"Python Basics\", \"author\": \"Krish Naik\", \"year\": 2025, \"genre\": \"AI-ML-DL\"}\n"
        }
      ],
      "execution_count": 19
    }
  ]
}