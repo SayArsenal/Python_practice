{
  "metadata": {
    "kernelspec": {
      "name": "python",
      "display_name": "Python (Pyodide)",
      "language": "python"
    },
    "language_info": {
      "codemirror_mode": {
        "name": "ipython",
        "version": 3
      },
      "file_extension": ".py",
      "mimetype": "text/x-python",
      "name": "python",
      "nbconvert_exporter": "python",
      "pygments_lexer": "ipython3",
      "version": "3.9.7"
    }
  },
  "nbformat_minor": 5,
  "nbformat": 4,
  "cells": [
    {
      "id": "58fc9014-a65c-4398-ad69-941331e7287a",
      "cell_type": "markdown",
      "source": "# Module: Exception Handling Assignments\n## Lesson: Exception Handling with try, except, and finally\n### Assignment 1: Handling Division by Zero\n\nWrite a function that takes two integers as input and returns their division. Use try, except, and finally blocks to handle division by zero and print an appropriate message.\n\n### Assignment 2: File Reading with Exception Handling\n\nWrite a function that reads the contents of a file named `data.txt`. Use try, except, and finally blocks to handle file not found errors and ensure the file is properly closed.\n\n### Assignment 3: Handling Multiple Exceptions\n\nWrite a function that takes a list of integers and returns their sum. Use try, except, and finally blocks to handle TypeError if a non-integer value is encountered and print an appropriate message.\n\n### Assignment 4: Exception Handling in User Input\n\nWrite a function that prompts the user to enter an integer. Use try, except, and finally blocks to handle ValueError if the user enters a non-integer value and print an appropriate message.\n\n### Assignment 5: Exception Handling in Dictionary Access\n\nWrite a function that takes a dictionary and a key as input and returns the value associated with the key. Use try, except, and finally blocks to handle KeyError if the key is not found in the dictionary and print an appropriate message.\n\n### Assignment 6: Nested Exception Handling\n\nWrite a function that performs nested exception handling. It should first attempt to convert a string to an integer, and then attempt to divide by that integer. Use nested try, except, and finally blocks to handle ValueError and ZeroDivisionError and print appropriate messages.\n\n### Assignment 7: Exception Handling in List Operations\n\nWrite a function that takes a list and an index as input and returns the element at the given index. Use try, except, and finally blocks to handle IndexError if the index is out of range and print an appropriate message.\n\n### Assignment 8: Exception Handling in Network Operations\n\nWrite a function that attempts to open a URL and read its contents. Use try, except, and finally blocks to handle network-related errors and print an appropriate message.\n\n### Assignment 9: Exception Handling in JSON Parsing\n\nWrite a function that attempts to parse a JSON string. Use try, except, and finally blocks to handle JSONDecodeError if the string is not a valid JSON and print an appropriate message.\n\n### Assignment 10: Custom Exception Handling\n\nDefine a custom exception named `NegativeNumberError`. Write a function that raises this exception if a negative number is encountered in a list. Use try, except, and finally blocks to handle the custom exception and print an appropriate message.\n\n### Assignment 11: Exception Handling in Function Calls\n\nWrite a function that calls another function which may raise an exception. Use try, except, and finally blocks to handle the exception and print an appropriate message.\n\n### Assignment 12: Exception Handling in Class Methods\n\nDefine a class with a method that performs a division operation. Use try, except, and finally blocks within the method to handle division by zero and print an appropriate message.\n\n### Assignment 13: Exception Handling in Data Conversion\n\nWrite a function that takes a list of strings and converts them to integers. Use try, except, and finally blocks to handle ValueError if a string cannot be converted and print an appropriate message.\n\n### Assignment 14: Exception Handling in List Comprehensions\n\nWrite a function that uses a list comprehension to convert a list of strings to integers. Use try, except, and finally blocks within the list comprehension to handle ValueError and print an appropriate message.\n\n### Assignment 15: Exception Handling in File Writing\n\nWrite a function that attempts to write a list of strings to a file. Use try, except, and finally blocks to handle IOError and ensure the file is properly closed.",
      "metadata": {}
    },
    {
      "id": "2a123712-60ce-4e7d-9799-4e4e6cd41325",
      "cell_type": "code",
      "source": "",
      "metadata": {},
      "outputs": [],
      "execution_count": null
    }
  ]
}