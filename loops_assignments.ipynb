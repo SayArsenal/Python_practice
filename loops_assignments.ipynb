{
  "metadata": {
    "kernelspec": {
      "name": "python",
      "display_name": "Python (Pyodide)",
      "language": "python"
    },
    "language_info": {
      "codemirror_mode": {
        "name": "python",
        "version": 3
      },
      "file_extension": ".py",
      "mimetype": "text/x-python",
      "name": "python",
      "nbconvert_exporter": "python",
      "pygments_lexer": "ipython3",
      "version": "3.8"
    },
    "colab": {
      "provenance": [],
      "include_colab_link": true
    }
  },
  "nbformat_minor": 5,
  "nbformat": 4,
  "cells": [
    {
      "cell_type": "markdown",
      "metadata": {
        "id": "view-in-github",
        "colab_type": "text"
      },
      "source": [
        "<a href=\"https://colab.research.google.com/github/SayArsenal/Python_practice/blob/main/loops_assignments.ipynb\" target=\"_parent\"><img src=\"https://colab.research.google.com/assets/colab-badge.svg\" alt=\"Open In Colab\"/></a>"
      ]
    },
    {
      "id": "e47a510d-6190-49dc-81ed-fa59140a7310",
      "cell_type": "markdown",
      "source": [],
      "metadata": {
        "id": "e47a510d-6190-49dc-81ed-fa59140a7310"
      }
    },
    {
      "id": "3e9cd6fb-abb7-4f79-bea1-c1b952e05fcb",
      "cell_type": "code",
      "source": [
        "#Assignment 1: Simple if Statement\n",
        "#Write a program that asks the user to input a number and prints whether the number is positive.\n",
        "#Write a program that asks the user to input a number and prints whether the number is positive or negative.\n",
        "#Write a program that asks the user to input a number and prints whether the number is positive, negative, or zero.\n",
        "\n",
        "num = int(input('Enter a number'))\n",
        "\n",
        "if num < 0:\n",
        "    print(f'{num} is negative number')\n",
        "elif num > 0:\n",
        "    print(f'{num} is positive number')\n",
        "else:\n",
        "    print(f'{num} is zero')"
      ],
      "metadata": {
        "trusted": true,
        "id": "3e9cd6fb-abb7-4f79-bea1-c1b952e05fcb",
        "outputId": "2d4e8efe-9a32-455a-8eca-49755c703665"
      },
      "outputs": [
        {
          "output_type": "stream",
          "name": "stdin",
          "text": "Enter a number -55\n"
        },
        {
          "name": "stdout",
          "output_type": "stream",
          "text": "-55 is negative number\n"
        }
      ],
      "execution_count": null
    },
    {
      "id": "b217d617-29f1-4d7c-93a8-bb8d76f3f731",
      "cell_type": "code",
      "source": [
        "'''Assignment 4: Nested if Statement\n",
        "Write a program that asks the user to input a number and prints whether the number is positive and even, positive and odd, or negative.\n",
        "'''\n",
        "num = int(input('Enter a number'))\n",
        "if num > 0:\n",
        "    if num % 2 == 0:\n",
        "        print(f'{num} is even positive number')\n",
        "    else:\n",
        "        print(f'{num} is odd positive number')\n",
        "else:\n",
        "    print(f'{num} is negative number')"
      ],
      "metadata": {
        "trusted": true,
        "id": "b217d617-29f1-4d7c-93a8-bb8d76f3f731",
        "outputId": "d488c802-6238-4500-d146-d120a14868cc"
      },
      "outputs": [
        {
          "output_type": "stream",
          "name": "stdin",
          "text": "Enter a number -25\n"
        },
        {
          "name": "stdout",
          "output_type": "stream",
          "text": "-25 is negative number\n"
        }
      ],
      "execution_count": null
    },
    {
      "id": "bc0f05f9-6aee-47e5-b51a-db94e1fa4105",
      "cell_type": "code",
      "source": [
        "'''\n",
        "Assignment 5: for Loop\n",
        "Write a program that prints all the numbers from 1 to 10 using a for loop.\n",
        "'''\n",
        "\n",
        "for i in range(1,11):\n",
        "    print(i,end=' ')"
      ],
      "metadata": {
        "trusted": true,
        "id": "bc0f05f9-6aee-47e5-b51a-db94e1fa4105",
        "outputId": "0901ad8b-3cea-405d-c147-863fd28b2079"
      },
      "outputs": [
        {
          "name": "stdout",
          "output_type": "stream",
          "text": "1 2 3 4 5 6 7 8 9 10 "
        }
      ],
      "execution_count": null
    },
    {
      "id": "5f5867c8-53ca-448a-bdf2-c04c5fb8b525",
      "cell_type": "code",
      "source": [
        "'''\n",
        "Assignment 6: while Loop\n",
        "Write a program that prints all the numbers from 1 to 10 using a while loop.\n",
        "'''\n",
        "\n",
        "n = 10\n",
        "count = 1\n",
        "while count <= n:\n",
        "    print(count, end=' ')\n",
        "    count += 1"
      ],
      "metadata": {
        "trusted": true,
        "id": "5f5867c8-53ca-448a-bdf2-c04c5fb8b525",
        "outputId": "c6542762-8d00-45e4-c55a-11abf51a3a03"
      },
      "outputs": [
        {
          "name": "stdout",
          "output_type": "stream",
          "text": "1 2 3 4 5 6 7 8 9 10 "
        }
      ],
      "execution_count": null
    },
    {
      "id": "5d527b17-396a-4e64-a4c1-f10df5227625",
      "cell_type": "code",
      "source": [
        "'''\n",
        "### Assignment 7: Nested Loops\n",
        "Write a program that prints a 5x5 grid of asterisks (*) using nested loops.\n",
        "'''\n",
        "\n",
        "for i in range(5):\n",
        "    for j in range(5):\n",
        "        print('*', end=' ')\n",
        "    print('')"
      ],
      "metadata": {
        "trusted": true,
        "id": "5d527b17-396a-4e64-a4c1-f10df5227625",
        "outputId": "ad204ab4-a5ae-470f-9e4b-d8e941ae650b"
      },
      "outputs": [
        {
          "name": "stdout",
          "output_type": "stream",
          "text": "* * * * * \n* * * * * \n* * * * * \n* * * * * \n* * * * * \n"
        }
      ],
      "execution_count": null
    },
    {
      "id": "2562650a-9295-4988-9aa3-a3a02fd7909d",
      "cell_type": "code",
      "source": [
        "'''\n",
        "### Assignment 8: break Statement\n",
        "Write a program that asks the user to input numbers until they input 0. The program should print the sum of all the input numbers.\n",
        "'''\n",
        "\n",
        "sum = 0\n",
        "\n",
        "while True:\n",
        "    num = int(input('Enter a number'))\n",
        "    if num == 0:\n",
        "        break\n",
        "    sum += num\n",
        "\n",
        "print(f'sum of entered nums is = {sum}')\n"
      ],
      "metadata": {
        "trusted": true,
        "id": "2562650a-9295-4988-9aa3-a3a02fd7909d",
        "outputId": "434a8527-721b-4eb3-ed1b-7c65fabef75f"
      },
      "outputs": [
        {
          "output_type": "stream",
          "name": "stdin",
          "text": "Enter a number 1\nEnter a number 2\nEnter a number 5\nEnter a number 0\n"
        },
        {
          "name": "stdout",
          "output_type": "stream",
          "text": "sum of entered nums is = 8\n"
        }
      ],
      "execution_count": null
    },
    {
      "id": "a071d453-7817-4af8-87cf-a048ecd72af6",
      "cell_type": "code",
      "source": [
        "'''\n",
        "### Assignment 9: continue Statement\n",
        "Write a program that prints all the numbers from 1 to 10 except 5 using a for loop and continue statement.\n",
        "'''\n",
        "for i in range(1,11):\n",
        "    if i==5:\n",
        "        continue\n",
        "    print(i,end=' ')"
      ],
      "metadata": {
        "trusted": true,
        "id": "a071d453-7817-4af8-87cf-a048ecd72af6",
        "outputId": "f5a1096b-8f26-48de-ac57-8c178aa35e06"
      },
      "outputs": [
        {
          "name": "stdout",
          "output_type": "stream",
          "text": "1 2 3 4 6 7 8 9 10 "
        }
      ],
      "execution_count": null
    },
    {
      "id": "9a803673-69d2-4158-8ace-811908c06e20",
      "cell_type": "code",
      "source": [
        "'''\n",
        "### Assignment 10: pass Statement\n",
        "Write a program that defines an empty function using the pass statement.\n",
        "'''\n",
        "def empty_function():\n",
        "    pass\n",
        "\n",
        "empty_function()\n"
      ],
      "metadata": {
        "trusted": true,
        "id": "9a803673-69d2-4158-8ace-811908c06e20"
      },
      "outputs": [],
      "execution_count": null
    },
    {
      "id": "04964dd1-e25e-431a-b542-b6fbc96fdd5a",
      "cell_type": "code",
      "source": [
        "'''\n",
        "### Assignment 11: Combining Loops and Conditionals\n",
        "Write a program that asks the user to input a number and prints all the even numbers from 1 to that number using a for loop.\n",
        "'''\n",
        "\n",
        "num = int(input('Enter a number till where prints even number'))\n",
        "\n",
        "for n in range(1, num+1):\n",
        "    if n%2==0:\n",
        "        print(n, end=' ')"
      ],
      "metadata": {
        "trusted": true,
        "id": "04964dd1-e25e-431a-b542-b6fbc96fdd5a",
        "outputId": "748bb5f3-f7a1-4629-8b31-9e22b7d2e271"
      },
      "outputs": [
        {
          "output_type": "stream",
          "name": "stdin",
          "text": "Enter a number till where prints even number 20\n"
        },
        {
          "name": "stdout",
          "output_type": "stream",
          "text": "2 4 6 8 10 12 14 16 18 20 "
        }
      ],
      "execution_count": null
    },
    {
      "id": "0922885f-f49b-4727-b64d-4429311ca9b9",
      "cell_type": "code",
      "source": [
        "'''\n",
        "### Assignment 12: Factorial Calculation\n",
        "Write a program that calculates the factorial of a number input by the user using a while loop.\n",
        "'''\n",
        "def fact(n):\n",
        "    if n < 0:\n",
        "        return -1\n",
        "    elif n == 0:\n",
        "        return 1\n",
        "    else:\n",
        "        fact = 1\n",
        "        while n >= 1:\n",
        "            fact *= n\n",
        "            n -= 1\n",
        "        return fact\n",
        "\n",
        "\n",
        "num = int(input('Enter a number to find the factorial'))\n",
        "print(f'factorial of {num} is {fact(num)}')\n",
        "\n"
      ],
      "metadata": {
        "trusted": true,
        "id": "0922885f-f49b-4727-b64d-4429311ca9b9",
        "outputId": "7a120d6d-3efd-48fb-c1d5-2c372dd6bb52"
      },
      "outputs": [
        {
          "output_type": "stream",
          "name": "stdin",
          "text": "Enter a number to find the factorial 5\n"
        },
        {
          "name": "stdout",
          "output_type": "stream",
          "text": "factorial of 5 is 120\n"
        }
      ],
      "execution_count": null
    },
    {
      "id": "cc2add57-39d8-4b00-90d5-6fc2eb63fab4",
      "cell_type": "code",
      "source": [
        "'''\n",
        "### Assignment 13: Sum of Digits\n",
        "Write a program that calculates the sum of the digits of a number input by the user using a while loop.\n",
        "'''\n",
        "num = int(input('Enter a number to find its sum of digits'))\n",
        "\n",
        "sum = 0\n",
        "while num > 0:\n",
        "    digit = num % 10\n",
        "    sum += digit\n",
        "    num //= 10\n",
        "print(f'sum of digits is = {sum}')"
      ],
      "metadata": {
        "trusted": true,
        "id": "cc2add57-39d8-4b00-90d5-6fc2eb63fab4",
        "outputId": "79e1e046-0258-44a2-a560-24e7f1411fdd"
      },
      "outputs": [
        {
          "output_type": "stream",
          "name": "stdin",
          "text": "Enter a number to find its sum of digits 153\n"
        },
        {
          "name": "stdout",
          "output_type": "stream",
          "text": "sum of digits is = 9\n"
        }
      ],
      "execution_count": null
    },
    {
      "id": "08a6b305-33d6-421d-91ad-785103e9c7c0",
      "cell_type": "code",
      "source": [
        "'''\n",
        "### Assignment 14: Prime Number Check\n",
        "Write a program that checks if a number input by the user is a prime number using a for loop.\n",
        "'''\n",
        "num = int(input('Enter a number for Prime Number Check: '))\n",
        "\n",
        "if num <= 1:\n",
        "    print(f'{num} is not a prime number')\n",
        "elif num > 1:\n",
        "    for n in range(2, num):\n",
        "        if num % n == 0:\n",
        "            print(f'{num} is not a prime number')\n",
        "            print(f'{n} is a factorial of {num}')\n",
        "            break\n",
        "    else:\n",
        "        print(f'{num} is a prime number')"
      ],
      "metadata": {
        "trusted": true,
        "id": "08a6b305-33d6-421d-91ad-785103e9c7c0",
        "outputId": "e6f31694-7e35-4bee-c148-9f61a7e403c2"
      },
      "outputs": [
        {
          "output_type": "stream",
          "name": "stdin",
          "text": "Enter a number for Prime Number Check:  9\n"
        },
        {
          "name": "stdout",
          "output_type": "stream",
          "text": "9 is not a prime number\n3 is a factorial of 9\n"
        }
      ],
      "execution_count": null
    },
    {
      "id": "faecb6f0-3d44-44c8-9c3d-8150f8105d9a",
      "cell_type": "code",
      "source": [
        "'''\n",
        "### Assignment 15: Fibonacci Sequence\n",
        "Write a program that prints the first n Fibonacci numbers, where n is input by the user.\n",
        "\n",
        "a, b = 0, 1\n",
        "count = 0\n",
        "while count < n:\n",
        "    print(a)\n",
        "    a, b = b, a + b\n",
        "    count += 1\n",
        "\n",
        "'''\n",
        "\n",
        "terms=int(input('Enter no.of terms for Fibonacci series: '))\n",
        "\n",
        "n1,n2 = 0,1\n",
        "if terms <= 0:\n",
        "    print('Enter terms as +ve')\n",
        "elif terms == 1:\n",
        "    print(f'fibonacci series is {n1}')\n",
        "else:\n",
        "    print('fibonacci series is ')\n",
        "    for term in range(terms):\n",
        "        print(n1, end=' ')\n",
        "        n = n1 + n2\n",
        "        n1 = n2\n",
        "        n2 = n\n"
      ],
      "metadata": {
        "trusted": true,
        "id": "faecb6f0-3d44-44c8-9c3d-8150f8105d9a",
        "outputId": "dcd1d42c-6eef-4921-ba36-2d1b1adba881"
      },
      "outputs": [
        {
          "output_type": "stream",
          "name": "stdin",
          "text": "Enter no.of terms for Fibonacci series:  5\n"
        },
        {
          "name": "stdout",
          "output_type": "stream",
          "text": "fibonacci series is \n0 1 1 2 3 "
        }
      ],
      "execution_count": null
    }
  ]
}