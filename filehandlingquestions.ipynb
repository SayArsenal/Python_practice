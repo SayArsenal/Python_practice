{
  "metadata": {
    "kernelspec": {
      "name": "python",
      "display_name": "Python (Pyodide)",
      "language": "python"
    },
    "language_info": {
      "codemirror_mode": {
        "name": "python",
        "version": 3
      },
      "file_extension": ".py",
      "mimetype": "text/x-python",
      "name": "python",
      "nbconvert_exporter": "python",
      "pygments_lexer": "ipython3",
      "version": "3.8"
    }
  },
  "nbformat_minor": 5,
  "nbformat": 4,
  "cells": [
    {
      "id": "476f5b0b-a810-4fda-ac7e-a1e3f58373f1",
      "cell_type": "markdown",
      "source": "# Module: File Handling Assignments\n## Lesson: File Handling and Operations\n### Assignment 1: Reading a File\n\nWrite a function that reads the contents of a file named `sample.txt` and prints each line.\n\n### Assignment 2: Writing to a File\n\nWrite a function that writes a list of strings to a file named `output.txt`, with each string on a new line.\n\n### Assignment 3: Copying a File\n\nWrite a function that copies the contents of a file named `source.txt` to a new file named `destination.txt`.\n\n### Assignment 4: Appending to a File\n\nWrite a function that appends a given string to the end of a file named `log.txt`.\n\n### Assignment 5: Counting Words in a File\n\nWrite a function that reads the contents of a file named `document.txt` and returns the number of words in the file.\n\n### Assignment 6: Finding and Replacing Text\n\nWrite a function that finds and replaces all occurrences of a given word in a file named `data.txt` with another word.\n\n### Assignment 7: Reading a File in Reverse\n\nWrite a function that reads the contents of a file named `reverse.txt` and prints each line in reverse order.\n\n### Assignment 8: Counting Lines, Words, and Characters\n\nWrite a function that reads the contents of a file named `stats.txt` and returns the number of lines, words, and characters in the file.\n\n### Assignment 9: Merging Multiple Files\n\nWrite a function that merges the contents of multiple files into a single file named `merged.txt`.\n\n### Assignment 10: Splitting a Large File\n\nWrite a function that splits a large file named `large.txt` into smaller files of 100 lines each.\n\n### Assignment 11: Creating a Log File\n\nWrite a function that creates a log file named `activity.log` and writes log messages with timestamps.\n\n### Assignment 12: Binary File Operations\n\nWrite a function that reads a binary file named `image.bin` and writes its contents to another binary file named `copy_image.bin`.\n\n### Assignment 13: CSV File Operations\n\nWrite a function that reads a CSV file named `data.csv` and prints its contents as a list of dictionaries.\n\n### Assignment 14: JSON File Operations\n\nWrite a function that reads a JSON file named `data.json` and prints its contents as a Python dictionary.\n\n### Assignment 15: File Permission Handling\n\nWrite a function that attempts to read a file named `protected.txt` and handles any permission errors gracefully by printing an error message.",
      "metadata": {}
    },
    {
      "id": "de2a51ec-d79a-4892-b7da-74da1f78bc7d",
      "cell_type": "code",
      "source": "",
      "metadata": {},
      "outputs": [],
      "execution_count": null
    }
  ]
}