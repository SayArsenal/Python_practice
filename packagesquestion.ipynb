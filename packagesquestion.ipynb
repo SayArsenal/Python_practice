{
  "metadata": {
    "kernelspec": {
      "name": "python",
      "display_name": "Python (Pyodide)",
      "language": "python"
    },
    "language_info": {
      "codemirror_mode": {
        "name": "python",
        "version": 3
      },
      "file_extension": ".py",
      "mimetype": "text/x-python",
      "name": "python",
      "nbconvert_exporter": "python",
      "pygments_lexer": "ipython3",
      "version": "3.8"
    }
  },
  "nbformat_minor": 5,
  "nbformat": 4,
  "cells": [
    {
      "id": "9a58efe9-70b5-41fb-bf7a-91d58dafae23",
      "cell_type": "markdown",
      "source": "# Module 5: Modules and Packages Assignments\n## Lesson 5.1: Importing Modules\n### Assignment 1: Importing and Using Modules\n\nImport the `math` module and use it to calculate the square root of 25 and the sine of 90 degrees.\n\n### Assignment 2: Aliasing Modules\n\nImport the `datetime` module with an alias and use it to print the current date and time.\n\n### Assignment 3: Importing Specific Functions\n\nImport the `randint` function from the `random` module and use it to generate a random integer between 1 and 100.\n\n### Assignment 4: Importing Multiple Functions\n\nImport the `sqrt` and `pow` functions from the `math` module and use them to calculate the square root of 16 and 2 raised to the power of 3.\n\n### Assignment 5: Handling Import Errors\n\nWrite code that attempts to import a non-existent module and gracefully handles the import error by printing an error message.\n\n## Lesson 5.2: Standard Library Overview\n### Assignment 6: Working with the `os` Module\n\nUse the `os` module to create a new directory, list the contents of the current directory, and remove the newly created directory.\n\n### Assignment 7: Working with the `sys` Module\n\nUse the `sys` module to print the Python version currently in use and the command-line arguments passed to the script.\n\n### Assignment 8: Working with the `math` Module\n\nUse the `math` module to calculate the greatest common divisor (GCD) of two numbers and the factorial of a number.\n\n### Assignment 9: Working with the `datetime` Module\n\nUse the `datetime` module to print the current date, calculate the date 100 days from today, and determine the day of the week for a given date.\n\n### Assignment 10: Working with the `random` Module\n\nUse the `random` module to generate a list of 5 random numbers between 1 and 50 and shuffle the elements of a list.\n\n## Lesson 5.3: Creating and Using Packages\n### Assignment 11: Creating a Simple Package\n\nCreate a package named `mypackage` with two modules: `module1` and `module2`. `module1` should contain a function that adds two numbers, and `module2` should contain a function that multiplies two numbers. Write code to use these functions.\n\n### Assignment 12: Using `__init__.py`\n\nModify the `mypackage` package to include an `__init__.py` file that imports the functions from `module1` and `module2`. Write code to use these functions.\n\n### Assignment 13: Importing from a Package\n\nWrite code to import and use the functions from `mypackage` without explicitly importing `module1` and `module2`.\n\n### Assignment 14: Relative Imports\n\nCreate a subpackage named `subpackage` within `mypackage` and move `module2` into `subpackage`. Modify the import statements in `__init__.py` to use relative imports. Write code to use the functions from both modules.\n\n### Assignment 15: Handling Package Import Errors\n\nWrite code that attempts to import a non-existent function from `mypackage` and gracefully handles the import error by printing an error message.",
      "metadata": {}
    },
    {
      "id": "1bc8da2c-099b-4a87-8e39-74c4180d7317",
      "cell_type": "code",
      "source": "",
      "metadata": {},
      "outputs": [],
      "execution_count": null
    }
  ]
}