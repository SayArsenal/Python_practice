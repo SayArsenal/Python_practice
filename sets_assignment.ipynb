{
  "metadata": {
    "kernelspec": {
      "name": "python",
      "display_name": "Python (Pyodide)",
      "language": "python"
    },
    "language_info": {
      "codemirror_mode": {
        "name": "python",
        "version": 3
      },
      "file_extension": ".py",
      "mimetype": "text/x-python",
      "name": "python",
      "nbconvert_exporter": "python",
      "pygments_lexer": "ipython3",
      "version": "3.8"
    }
  },
  "nbformat_minor": 5,
  "nbformat": 4,
  "cells": [
    {
      "id": "55e13025-9d96-411c-b10f-1ef123998cf6",
      "cell_type": "markdown",
      "source": "# Module 3: Data Structures Assignments\n## Lesson 3.3: Sets\n### Assignment 1: Creating and Accessing Sets\n\nCreate a set with the first 10 positive integers. Print the set.\n\n### Assignment 2: Adding and Removing Elements\n\nAdd the number 11 to the set created in Assignment 1. Then remove the number 1 from the set. Print the modified set.\n\n### Assignment 3: Set Operations\n\nCreate two sets: one with the first 5 positive integers and another with the first 5 even integers. Perform and print the results of union, intersection, difference, and symmetric difference operations on these sets.\n\n### Assignment 4: Set Comprehensions\n\nCreate a new set containing the squares of the first 10 positive integers using a set comprehension. Print the new set.\n\n### Assignment 5: Filtering Sets\n\nCreate a new set containing only the even numbers from the set created in Assignment 1 using a set comprehension. Print the new set.\n\n### Assignment 6: Set Methods\n\nCreate a set with duplicate elements and remove the duplicates using set methods. Print the modified set.\n\n### Assignment 7: Subsets and Supersets\n\nCreate two sets: one with the first 5 positive integers and another with the first 3 positive integers. Check if the second set is a subset of the first set and if the first set is a superset of the second set. Print the results.\n\n### Assignment 8: Frozenset\n\nCreate a frozenset with the first 5 positive integers. Print the frozenset.\n\n### Assignment 9: Set and List Conversion\n\nCreate a set with the first 5 positive integers. Convert it to a list, append the number 6, and convert it back to a set. Print the resulting set.\n\n### Assignment 10: Set and Dictionary\n\nCreate a dictionary with set keys and integer values. Print the dictionary.\n\n### Assignment 11: Iterating Over Sets\n\nCreate a set and iterate over the elements, printing each element.\n\n### Assignment 12: Removing Elements from Sets\n\nCreate a set and remove elements from it until it is empty. Print the set after each removal.\n\n### Assignment 13: Set Symmetric Difference Update\n\nCreate two sets and update the first set with the symmetric difference of the two sets. Print the modified first set.\n\n### Assignment 14: Set Membership Testing\n\nCreate a set and test if certain elements are present in the set. Print the results.\n\n### Assignment 15: Set of Tuples\n\nCreate a set containing tuples, where each tuple contains two elements. Print the set.",
      "metadata": {}
    },
    {
      "id": "381f1369-b6e8-4f72-a827-dbff60722a12",
      "cell_type": "code",
      "source": "'''\nAssignment 1: Creating and Accessing Sets\nCreate a set with the first 10 positive integers. Print the set.\nAssignment 2: Adding and Removing Elements\nAdd the number 11 to the set created in Assignment 1. Then remove the number 1 from the set. Print the modified set.\n'''\nm_set = set(range(1,11))\nprint(m_set)\nm_set.add(11)\nm_set.remove(1)\nprint(m_set)",
      "metadata": {
        "trusted": true
      },
      "outputs": [
        {
          "name": "stdout",
          "output_type": "stream",
          "text": "{1, 2, 3, 4, 5, 6, 7, 8, 9, 10}\n{2, 3, 4, 5, 6, 7, 8, 9, 10, 11}\n"
        }
      ],
      "execution_count": 6
    },
    {
      "id": "58c1ce53-0563-456b-aaae-a7f7811c11f3",
      "cell_type": "code",
      "source": "'''\nAssignment 3: Set Operations\nCreate two sets: one with the first 5 positive integers and another with the first 5 even integers.\nPerform and print the results of union, intersection, difference, and symmetric difference operations on these sets.\n'''\nset1 = set(range(1,5+1))\nset2 = {x for x in range(1,10+1) if x%2==0}\nprint(set1)\nprint(set2)\nunion_set = set1.union(set2)\nprint(union_set)\nintersection_set = set1.intersection(set2)\nprint(intersection_set)\ndifference_set = set1.difference(set2)\nprint(difference_set)\nsymmdiff_set = set1.symmetric_difference(set2)\nprint(symmdiff_set)",
      "metadata": {
        "trusted": true
      },
      "outputs": [
        {
          "name": "stdout",
          "output_type": "stream",
          "text": "{1, 2, 3, 4, 5}\n{2, 4, 6, 8, 10}\n{1, 2, 3, 4, 5, 6, 8, 10}\n{2, 4}\n{1, 3, 5}\n{1, 3, 5, 6, 8, 10}\n"
        }
      ],
      "execution_count": 10
    },
    {
      "id": "d547e6af-25e0-42a4-813f-516d1cd71bba",
      "cell_type": "code",
      "source": "'''\nAssignment 4: Set Comprehensions\nCreate a new set containing the squares of the first 10 positive integers using a set comprehension. Print the new set.\n'''\nset1 = {x**2 for x in range(1,10+1)}\nprint(set1)",
      "metadata": {
        "trusted": true
      },
      "outputs": [
        {
          "name": "stdout",
          "output_type": "stream",
          "text": "{64, 1, 4, 36, 100, 9, 16, 49, 81, 25}\n"
        }
      ],
      "execution_count": 16
    },
    {
      "id": "af8f6000-7f2b-4022-b6bb-3f8ceeebd2b9",
      "cell_type": "code",
      "source": "'''\nAssignment 5: Filtering Sets\nCreate a new set containing only the even numbers from the set created in Assignment 1 using a set comprehension. Print the new set.\n'''\nset11 = {x for x in m_set if x%2==0}\nprint(set11)",
      "metadata": {
        "trusted": true
      },
      "outputs": [
        {
          "name": "stdout",
          "output_type": "stream",
          "text": "{2, 4, 6, 8, 10}\n"
        }
      ],
      "execution_count": 18
    },
    {
      "id": "160b91f3-d84e-409e-bfa7-7c933b7f2724",
      "cell_type": "code",
      "source": "'''\nAssignment 6: Set Methods\nCreate a set with duplicate elements and remove the duplicates using set methods. Print the modified set.\n'''\nm_set1 = {1,2,2,3,3,3,4,5,4,4,4,5}\n#set will not contain duplicate values\nprint(m_set1)",
      "metadata": {
        "trusted": true
      },
      "outputs": [
        {
          "name": "stdout",
          "output_type": "stream",
          "text": "{1, 2, 3, 4, 5}\n"
        }
      ],
      "execution_count": 19
    }
  ]
}