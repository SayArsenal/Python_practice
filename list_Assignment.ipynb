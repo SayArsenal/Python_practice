{
  "metadata": {
    "kernelspec": {
      "name": "python",
      "display_name": "Python (Pyodide)",
      "language": "python"
    },
    "language_info": {
      "codemirror_mode": {
        "name": "python",
        "version": 3
      },
      "file_extension": ".py",
      "mimetype": "text/x-python",
      "name": "python",
      "nbconvert_exporter": "python",
      "pygments_lexer": "ipython3",
      "version": "3.8"
    }
  },
  "nbformat_minor": 5,
  "nbformat": 4,
  "cells": [
    {
      "id": "9e1538f6-6be7-42ba-8548-2ff24a977ddd",
      "cell_type": "markdown",
      "source": "# Module 3: Data Structures Assignments\n## Lesson 3.1: Lists\n### Assignment 1: Creating and Accessing Lists\n\nCreate a list of the first 20 positive integers. Print the list.\n\n### Assignment 2: Accessing List Elements\n\nPrint the first, middle, and last elements of the list created in Assignment 1.\n\n### Assignment 3: List Slicing\n\nPrint the first five elements, the last five elements, and the elements from index 5 to 15 of the list created in Assignment 1.\n\n### Assignment 4: List Comprehensions\n\nCreate a new list containing the squares of the first 10 positive integers using a list comprehension. Print the new list.\n\n### Assignment 5: Filtering Lists\n\nCreate a new list containing only the even numbers from the list created in Assignment 1 using a list comprehension. Print the new list.\n\n### Assignment 6: List Methods\n\nCreate a list of random numbers and sort it in ascending and descending order. Remove the duplicates from the list and print the modified list.\n\n### Assignment 7: Nested Lists\n\nCreate a nested list representing a 3x3 matrix and print the matrix. Access and print the element at the second row and third column.\n\n### Assignment 8: List of Dictionaries\n\nCreate a list of dictionaries where each dictionary represents a student with keys 'name' and 'score'. Sort the list of dictionaries by the 'score' in descending order and print the sorted list.\n\n### Assignment 9: Matrix Transposition\n\nWrite a function that takes a 3x3 matrix (nested list) as input and returns its transpose. Print the original and transposed matrices.\n\n### Assignment 10: Flattening a Nested List\n\nWrite a function that takes a nested list and flattens it into a single list. Print the original and flattened lists.\n\n### Assignment 11: List Manipulation\n\nCreate a list of the first 10 positive integers. Remove the elements at indices 2, 4, and 6, and insert the element '99' at index 5. Print the modified list.\n\n### Assignment 12: List Zipping\n\nCreate two lists of the same length. Use the `zip` function to combine these lists into a list of tuples and print the result.\n\n### Assignment 13: List Reversal\n\nWrite a function that takes a list and returns a new list with the elements in reverse order. Print the original and reversed lists.\n\n### Assignment 14: List Rotation\n\nWrite a function that rotates a list by n positions. Print the original and rotated lists.\n\n### Assignment 15: List Intersection\n\nWrite a function that takes two lists and returns a new list containing only the elements that are present in both lists. Print the intersected list.",
      "metadata": {}
    },
    {
      "id": "9e466bf8-dfa7-4511-a78e-92ad8d237f5b",
      "cell_type": "code",
      "source": "'''\nAssignment 1: Creating and Accessing Lists¶\nCreate a list of the first 20 positive integers. Print the list.\n\nAssignment 2: Accessing List Elements\nPrint the first, middle, and last elements of the list created in Assignment 1.\n\nAssignment 3: List Slicing\nPrint the first five elements, the last five elements, and the elements from index 5 to 15 of the list created in Assignment 1.\n\nAssignment 5: Filtering Lists\nCreate a new list containing only the even numbers from the list created in Assignment 1 using a list comprehension. Print the new list.\n\n'''\nlst = list(range(1,21))\nprint(lst)\n\nprint(f'first element = {lst[0]}')\nprint(f'mid element = {lst[len(lst)//2]}')\nprint(f'last element = {lst[-1]}')\n\nprint(f'first five element = {lst[0:5]}')\nprint(f'last five element = {lst[15:]}')\nprint(f'elements from index 5 to 15 = {lst[5:15+1]}')\n\neven_lst = [x for x in lst if x%2==0 ]\nprint(f'even_lst={even_lst}')",
      "metadata": {
        "trusted": true
      },
      "outputs": [
        {
          "name": "stdout",
          "output_type": "stream",
          "text": "[1, 2, 3, 4, 5, 6, 7, 8, 9, 10, 11, 12, 13, 14, 15, 16, 17, 18, 19, 20]\nfirst element = 1\nmid element = 11\nlast element = 20\nfirst five element = [1, 2, 3, 4, 5]\nlast five element = [16, 17, 18, 19, 20]\nelements from index 5 to 15 = [6, 7, 8, 9, 10, 11, 12, 13, 14, 15, 16]\neven_lst=[2, 4, 6, 8, 10, 12, 14, 16, 18, 20]\n"
        }
      ],
      "execution_count": 12
    },
    {
      "id": "a02bf3fd-1cd3-49b2-b12d-0a8d8120fa0d",
      "cell_type": "code",
      "source": "'''\nAssignment 4: List Comprehensions\nCreate a new list containing the squares of the first 10 positive integers using a list comprehension. Print the new list.\n'''\nsquares = [n**2 for n in range(1,11)]\nprint(squares)\n",
      "metadata": {
        "trusted": true
      },
      "outputs": [
        {
          "name": "stdout",
          "output_type": "stream",
          "text": "[1, 4, 9, 16, 25, 36, 49, 64, 81, 100]\n"
        }
      ],
      "execution_count": 10
    },
    {
      "id": "7173bcb6-7661-4f5d-8f4b-aac58079551b",
      "cell_type": "code",
      "source": "'''\nAssignment 6: List Methods\nCreate a list of random numbers and sort it in ascending and descending order. Remove the duplicates from the list and print the modified list.\n'''\nimport random\n\nrandom_nums = [random.randint(1,20) for _ in range(15)]\nprint(f'random_nums = {random_nums}')\n\nsorted_nums = sorted(random_nums)\nprint(f'sorted_nums in ascending = {sorted_nums}')\n\nsorted_nums = sorted(random_nums, reverse=True)\nprint(f'sorted_nums in descendign= {sorted_nums}')\n\nunique_nums = list(set(random_nums))\nprint(f'unique_nums = {unique_nums}')",
      "metadata": {
        "trusted": true
      },
      "outputs": [
        {
          "name": "stdout",
          "output_type": "stream",
          "text": "random_nums = [15, 7, 6, 19, 17, 17, 15, 4, 17, 5, 20, 11, 10, 19, 11]\nsorted_nums in ascending = [4, 5, 6, 7, 10, 11, 11, 15, 15, 17, 17, 17, 19, 19, 20]\nsorted_nums in descendign= [20, 19, 19, 17, 17, 17, 15, 15, 11, 11, 10, 7, 6, 5, 4]\nunique_nums = [4, 5, 6, 7, 10, 11, 15, 17, 19, 20]\n"
        }
      ],
      "execution_count": 18
    },
    {
      "id": "1923f2b5-1bfc-4f49-884b-1ddaa9698ee7",
      "cell_type": "code",
      "source": "'''\nAssignment 7: Nested Lists\nCreate a nested list representing a 3x3 matrix and print the matrix. Access and print the element at the second row and third column.\n'''\n\nmatrix = [\n    [1,2,3],\n    [4,5,6],\n    [7,8,9]\n]\n\nfor rows in matrix:\n   print(rows)\n\nprint(f'element at second row and third row: {matrix[1][2]}')\n\n# for r,rows in enumerate(matrix):\n#     for c, cols in enumerate(matrix[r]):\n#         print(matrix[r][c], end=' ')\n#     print()",
      "metadata": {
        "trusted": true
      },
      "outputs": [
        {
          "name": "stdout",
          "output_type": "stream",
          "text": "[1, 2, 3]\n[4, 5, 6]\n[7, 8, 9]\nelement at second row and third row: 6\n"
        }
      ],
      "execution_count": 22
    },
    {
      "id": "b30d9677-d4be-4380-bd13-6fca3ff3fefc",
      "cell_type": "code",
      "source": "'''\nAssignment 8: List of Dictionaries\nCreate a list of dictionaries where each dictionary represents a student with keys 'name' and 'score'.\nSort the list of dictionaries by the 'score' in descending order and print the sorted list.\n'''\n\nstudents = [\n    {'name': \"Shiva\", 'score': 95 },\n    {'name': \"Krishna\", 'score': 90 },\n    {'name': \"Kali\", 'score': 85 },\n    {'name': \"Durga\", 'score': 80 },\n    {'name': \"Saraswati\", 'score': 99 }\n]\n\nsorted_students = sorted(students, key = lambda x:x['score'], reverse=True)\nprint(\"Sorted students by score in descending order:\")\nfor student in sorted_students:\n    print(student)\n",
      "metadata": {
        "trusted": true
      },
      "outputs": [
        {
          "name": "stdout",
          "output_type": "stream",
          "text": "Sorted students by score in descending order:\n{'name': 'Saraswati', 'score': 99}\n{'name': 'Shiva', 'score': 95}\n{'name': 'Krishna', 'score': 90}\n{'name': 'Kali', 'score': 85}\n{'name': 'Durga', 'score': 80}\n"
        }
      ],
      "execution_count": 28
    },
    {
      "id": "b805edb3-8343-4749-b926-69ba6df0c139",
      "cell_type": "code",
      "source": "'''\nAssignment 9: Matrix Transposition\nWrite a function that takes a 3x3 matrix (nested list) as input and returns its transpose. Print the original and transposed matrices.\n\ndef transpose_matrix(matrix):\n    transposed = [[matrix[j][i] for j in range(len(matrix))] for i in range(len(matrix[0]))]\n    return transposed\n'''\n\ndef transpose_mat(mat):\n    n = len(mat)\n    for r in range(n):\n        for c in range(r, n):\n            mat[r][c], mat[c][r] = mat[c][r], mat[r][c]\n\n    return mat\n    \nprint(f'original matrix:')\nmatrix = [\n    [1,2,3],\n    [4,5,6],\n    [7,8,9]\n]\n\nfor rows in matrix:\n   print(rows)\n\ntran_mat = transpose_mat(matrix)\nprint(f'\\n\\ntranspose matrix:')\nfor rows in tran_mat:\n   print(rows) \n",
      "metadata": {
        "trusted": true
      },
      "outputs": [
        {
          "name": "stdout",
          "output_type": "stream",
          "text": "original matrix:\n[1, 2, 3]\n[4, 5, 6]\n[7, 8, 9]\n\n\ntranspose matrix:\n[1, 4, 7]\n[2, 5, 8]\n[3, 6, 9]\n"
        }
      ],
      "execution_count": 46
    },
    {
      "id": "a36b268e-06b1-461b-b22e-993a269e0dc1",
      "cell_type": "code",
      "source": "'''\nAssignment 10: Flattening a Nested List\nWrite a function that takes a nested list and flattens it into a single list. Print the original and flattened lists.\n'''\nprint(f'original matrix:')\nmatrix = [\n    [1,2,3],\n    [4,5,6],\n    [7,8,9]\n]\n\nfor rows in matrix:\n   print(rows)\n\nflat_list =[items for subitems in matrix for items in subitems]\n\n# for r,_ in enumerate(matrix):\n#     for c,_ in enumerate(matrix[r]):\n#         flat_list.append(matrix[r][c])\n\nprint(f'\\nflat_list:')\nfor el in flat_list:\n   print(el,end=' ')      \n\n",
      "metadata": {
        "trusted": true
      },
      "outputs": [
        {
          "name": "stdout",
          "output_type": "stream",
          "text": "original matrix:\n[1, 2, 3]\n[4, 5, 6]\n[7, 8, 9]\n\nflat_list:\n1 2 3 4 5 6 7 8 9 "
        }
      ],
      "execution_count": 49
    },
    {
      "id": "61723e94-93cf-4f9a-9ab5-4a329dc80c7f",
      "cell_type": "code",
      "source": "'''\nAssignment 11: List Manipulation\nCreate a list of the first 10 positive integers.\nRemove the elements at indices 2, 4, and 6, and insert the element '99' at index 5. Print the modified list.\n'''\n\nlst = list(range(1,11))\nprint('original list: ')\nfor el in lst:\n   print(el,end=' ') \ndel lst[2:6+1:2]\n\nlst.insert(5, 99)\nprint('\\n\\nmodified list: ')\nfor el in lst:\n   print(el,end=' ') \n\n",
      "metadata": {
        "trusted": true
      },
      "outputs": [
        {
          "name": "stdout",
          "output_type": "stream",
          "text": "original list: \n1 2 3 4 5 6 7 8 9 10 \n\nmodified list: \n1 2 4 6 8 99 9 10 "
        }
      ],
      "execution_count": 53
    },
    {
      "id": "002926b0-ee12-4e0f-84c3-4b713da93211",
      "cell_type": "code",
      "source": "'''\nAssignment 12: List Zipping\nCreate two lists of the same length. Use the zip function to combine these lists into a list of tuples and print the result.\n'''\nlist1 = [1, 2, 3, 4, 5]\nlist2 = ['a', 'b', 'c', 'd', 'e']\nzipped = list(zip(list1, list2))\nprint(zipped)",
      "metadata": {
        "trusted": true
      },
      "outputs": [
        {
          "name": "stdout",
          "output_type": "stream",
          "text": "[(1, 'a'), (2, 'b'), (3, 'c'), (4, 'd'), (5, 'e')]\n"
        }
      ],
      "execution_count": 54
    },
    {
      "id": "7136b56f-219a-4c4d-a6e3-d715b55006b1",
      "cell_type": "code",
      "source": "'''\nAssignment 13: List Reversal\nWrite a function that takes a list and returns a new list with the elements in reverse order. Print the original and reversed lists.\n'''\nlst = list(range(1,21))\nprint(lst)\n\nreversed_lst = lst[::-1]\nprint(reversed_lst)",
      "metadata": {
        "trusted": true
      },
      "outputs": [
        {
          "name": "stdout",
          "output_type": "stream",
          "text": "[1, 2, 3, 4, 5, 6, 7, 8, 9, 10, 11, 12, 13, 14, 15, 16, 17, 18, 19, 20]\n[20, 19, 18, 17, 16, 15, 14, 13, 12, 11, 10, 9, 8, 7, 6, 5, 4, 3, 2, 1]\n"
        }
      ],
      "execution_count": 64
    },
    {
      "id": "bf83c5de-5c2d-4edc-908b-3c50e613107c",
      "cell_type": "code",
      "source": "'''\nAssignment 14: List Rotation\nWrite a function that rotates a list by n positions. Print the original and rotated lists.\n'''\nlst = list(range(1,21))\nprint(lst)\nn = int(input(\"Enter position to rotate the list\"))\nl1 = lst[n:]\nl2 = lst[:n]\nl1.extend(l2)\nprint(l1)\n\n",
      "metadata": {
        "trusted": true
      },
      "outputs": [
        {
          "name": "stdout",
          "output_type": "stream",
          "text": "[1, 2, 3, 4, 5, 6, 7, 8, 9, 10, 11, 12, 13, 14, 15, 16, 17, 18, 19, 20]\n"
        },
        {
          "output_type": "stream",
          "name": "stdin",
          "text": "Enter position to rotate the list 14\n"
        },
        {
          "name": "stdout",
          "output_type": "stream",
          "text": "[15, 16, 17, 18, 19, 20, 1, 2, 3, 4, 5, 6, 7, 8, 9, 10, 11, 12, 13, 14]\n"
        }
      ],
      "execution_count": 66
    },
    {
      "id": "0619b004-889a-40fa-b5e1-f1fe569d031d",
      "cell_type": "code",
      "source": "'''\nAssignment 15: List Intersection\nWrite a function that takes two lists and returns a new list containing only the elements that are present in both lists. Print the intersected list.\n'''\n\ndef intersect_list(l1, l2):\n    return [x for x in l1 if x in l2]\n\nlist1 = [1, 2, 3, 4, 5]\nlist2 = [3, 4, 5, 6, 7]\nintersection = intersect_list(list1, list2)\nprint(f\"List 1: {list1}\")\nprint(f\"List 2: {list2}\")\nprint(f\"Intersection: {intersection}\")",
      "metadata": {
        "trusted": true
      },
      "outputs": [
        {
          "name": "stdout",
          "output_type": "stream",
          "text": "List 1: [1, 2, 3, 4, 5]\nList 2: [3, 4, 5, 6, 7]\nIntersection: [3, 4, 5]\n"
        }
      ],
      "execution_count": 68
    }
  ]
}